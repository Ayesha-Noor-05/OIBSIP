{
 "cells": [
  {
   "cell_type": "code",
   "execution_count": 1,
   "id": "ba1adcd0-458a-43e7-8fca-b2a328d6334d",
   "metadata": {},
   "outputs": [],
   "source": [
    "import pandas as pd \n",
    "import numpy as np \n",
    "import nltk\n",
    "import matplotlib.pyplot as plt\n",
    "import seaborn as sns\n",
    "from nltk.corpus import stopwords\n",
    "from nltk.tokenize import word_tokenize , sent_tokenize\n",
    "from nltk.stem import WordNetLemmatizer\n",
    "import string \n",
    "import re "
   ]
  },
  {
   "cell_type": "code",
   "execution_count": 2,
   "id": "2abb2266-cc79-48f2-a6ae-9b1b6e1480ea",
   "metadata": {},
   "outputs": [],
   "source": [
    "df = pd.read_csv(r\"C:\\Users\\dell\\Documents\\Data analysis\\OASIS INFOBYTE\\Sentiment analysis\\Twitter_Data.csv\")"
   ]
  },
  {
   "cell_type": "code",
   "execution_count": 3,
   "id": "4186641d-976b-42ae-9e52-090cd92bc981",
   "metadata": {},
   "outputs": [
    {
     "data": {
      "text/html": [
       "<div>\n",
       "<style scoped>\n",
       "    .dataframe tbody tr th:only-of-type {\n",
       "        vertical-align: middle;\n",
       "    }\n",
       "\n",
       "    .dataframe tbody tr th {\n",
       "        vertical-align: top;\n",
       "    }\n",
       "\n",
       "    .dataframe thead th {\n",
       "        text-align: right;\n",
       "    }\n",
       "</style>\n",
       "<table border=\"1\" class=\"dataframe\">\n",
       "  <thead>\n",
       "    <tr style=\"text-align: right;\">\n",
       "      <th></th>\n",
       "      <th>clean_text</th>\n",
       "      <th>category</th>\n",
       "    </tr>\n",
       "  </thead>\n",
       "  <tbody>\n",
       "    <tr>\n",
       "      <th>0</th>\n",
       "      <td>when modi promised “minimum government maximum...</td>\n",
       "      <td>-1.0</td>\n",
       "    </tr>\n",
       "    <tr>\n",
       "      <th>1</th>\n",
       "      <td>talk all the nonsense and continue all the dra...</td>\n",
       "      <td>0.0</td>\n",
       "    </tr>\n",
       "    <tr>\n",
       "      <th>2</th>\n",
       "      <td>what did just say vote for modi  welcome bjp t...</td>\n",
       "      <td>1.0</td>\n",
       "    </tr>\n",
       "    <tr>\n",
       "      <th>3</th>\n",
       "      <td>asking his supporters prefix chowkidar their n...</td>\n",
       "      <td>1.0</td>\n",
       "    </tr>\n",
       "    <tr>\n",
       "      <th>4</th>\n",
       "      <td>answer who among these the most powerful world...</td>\n",
       "      <td>1.0</td>\n",
       "    </tr>\n",
       "  </tbody>\n",
       "</table>\n",
       "</div>"
      ],
      "text/plain": [
       "                                          clean_text  category\n",
       "0  when modi promised “minimum government maximum...      -1.0\n",
       "1  talk all the nonsense and continue all the dra...       0.0\n",
       "2  what did just say vote for modi  welcome bjp t...       1.0\n",
       "3  asking his supporters prefix chowkidar their n...       1.0\n",
       "4  answer who among these the most powerful world...       1.0"
      ]
     },
     "execution_count": 3,
     "metadata": {},
     "output_type": "execute_result"
    }
   ],
   "source": [
    "df.head()"
   ]
  },
  {
   "cell_type": "code",
   "execution_count": 4,
   "id": "42a85663-52ac-4d4c-a197-4a8708600fe9",
   "metadata": {},
   "outputs": [
    {
     "data": {
      "text/plain": [
       "clean_text    4\n",
       "category      7\n",
       "dtype: int64"
      ]
     },
     "execution_count": 4,
     "metadata": {},
     "output_type": "execute_result"
    }
   ],
   "source": [
    "df.isnull().sum()"
   ]
  },
  {
   "cell_type": "code",
   "execution_count": 5,
   "id": "0903ca4b-cc98-415e-b7c0-a3d66eb439a5",
   "metadata": {},
   "outputs": [],
   "source": [
    "df.dropna(inplace = True)"
   ]
  },
  {
   "cell_type": "code",
   "execution_count": 6,
   "id": "f760ce77-79b8-4b8f-b2af-cb3860f91361",
   "metadata": {},
   "outputs": [
    {
     "name": "stdout",
     "output_type": "stream",
     "text": [
      "<class 'pandas.core.frame.DataFrame'>\n",
      "Index: 162969 entries, 0 to 162979\n",
      "Data columns (total 2 columns):\n",
      " #   Column      Non-Null Count   Dtype  \n",
      "---  ------      --------------   -----  \n",
      " 0   clean_text  162969 non-null  object \n",
      " 1   category    162969 non-null  float64\n",
      "dtypes: float64(1), object(1)\n",
      "memory usage: 3.7+ MB\n"
     ]
    }
   ],
   "source": [
    "df.info()"
   ]
  },
  {
   "cell_type": "code",
   "execution_count": 7,
   "id": "dcb0f700-3d9e-411e-8f53-ffa7b8ef15b3",
   "metadata": {},
   "outputs": [],
   "source": [
    "#text processing (converting in lower case)\n",
    "\n",
    "df['lower_text']= df['clean_text'].str.lower()"
   ]
  },
  {
   "cell_type": "code",
   "execution_count": 8,
   "id": "fa405c52-c3fa-4f32-ba3d-8bf200504a53",
   "metadata": {},
   "outputs": [],
   "source": [
    "#removing urls , mentions , html\n",
    "\n",
    "df['removing_url'] = df['lower_text'].str.replace(r'http\\S+|www\\.\\S+', '', regex=True)\n",
    "df['removing_url']= df['removing_url'].str.replace(r'<.*?>', '',regex= True)\n",
    "df['removing_url']=df['removing_url'].str.replace(r'@\\w+', '',regex= True)"
   ]
  },
  {
   "cell_type": "code",
   "execution_count": 9,
   "id": "5e2af8c1-3b26-42af-a471-c19e66ba0be7",
   "metadata": {},
   "outputs": [],
   "source": [
    "#removing punctuation \n",
    "df['removing_p']=df['removing_url'].str.replace(r'[^\\w\\s]', '',regex= True)"
   ]
  },
  {
   "cell_type": "code",
   "execution_count": 10,
   "id": "bc06d436-3610-4611-b165-650b7b20be30",
   "metadata": {},
   "outputs": [],
   "source": [
    "def clean_text (text):\n",
    "    words = word_tokenize(text)\n",
    "    sw = set(stopwords.words('english'))\n",
    "    rsw = [i for i in words if i not in sw]\n",
    "    L = WordNetLemmatizer()\n",
    "    base_w = []\n",
    "    for i in rsw:\n",
    "        temp = L.lemmatize(i)\n",
    "        base_w.append(i)\n",
    "    return ' '.join(base_w)"
   ]
  },
  {
   "cell_type": "code",
   "execution_count": 11,
   "id": "59fc73c2-43e5-43d9-8738-94603fd77e87",
   "metadata": {},
   "outputs": [
    {
     "data": {
      "text/plain": [
       "0         modi promised minimum government maximum gover...\n",
       "1                    talk nonsense continue drama vote modi\n",
       "2         say vote modi welcome bjp told rahul main camp...\n",
       "3         asking supporters prefix chowkidar names modi ...\n",
       "4         answer among powerful world leader today trump...\n",
       "                                ...                        \n",
       "162975    456 crores paid neerav modi recovered congress...\n",
       "162976    dear rss terrorist payal gawar modi killing 10...\n",
       "162977                         cover interaction forum left\n",
       "162978    big project came india modi dream project happ...\n",
       "162979    ever listen like gurukul discipline maintained...\n",
       "Name: removing_p, Length: 162969, dtype: object"
      ]
     },
     "execution_count": 11,
     "metadata": {},
     "output_type": "execute_result"
    }
   ],
   "source": [
    "df['removing_p'] = pd.DataFrame(df['removing_p'])\n",
    "df['removing_p'].apply(clean_text)"
   ]
  },
  {
   "cell_type": "code",
   "execution_count": 12,
   "id": "1b117bc5-f58d-4575-93e3-9eec9f0be179",
   "metadata": {},
   "outputs": [],
   "source": [
    "from sklearn.feature_extraction.text import TfidfVectorizer\n",
    "from sklearn.model_selection import train_test_split"
   ]
  },
  {
   "cell_type": "code",
   "execution_count": 33,
   "id": "3ddf677d-6a63-4215-8032-ab82ed50fdf6",
   "metadata": {},
   "outputs": [],
   "source": [
    "x = df['removing_p']\n",
    "y = df['category']\n",
    "x_train_test, x_test_text,y_train, y_test = train_test_split(x,y,test_size = 0.2, random_state= 42)"
   ]
  },
  {
   "cell_type": "code",
   "execution_count": 37,
   "id": "099c8b33-bcce-4e2c-bce3-130a5378fb68",
   "metadata": {},
   "outputs": [],
   "source": [
    "vector = TfidfVectorizer()\n",
    "x_train_test = vector.fit_transform(x_train_test)\n",
    "x_test = vector.transform(x_test_text)\n"
   ]
  },
  {
   "cell_type": "code",
   "execution_count": 38,
   "id": "dfe9e3aa-8bc0-4476-959d-6c8a3ca04493",
   "metadata": {},
   "outputs": [],
   "source": [
    "from sklearn.svm import SVC\n",
    "from sklearn.metrics import classification_report, confusion_matrix , accuracy_score"
   ]
  },
  {
   "cell_type": "code",
   "execution_count": null,
   "id": "56ebe0f9-d439-478a-9edf-8e3f0784fb81",
   "metadata": {},
   "outputs": [],
   "source": [
    "svm_model = SVC(kernel= 'linear')\n",
    "svm_model.fit(x_train_test, y_train)"
   ]
  },
  {
   "cell_type": "code",
   "execution_count": null,
   "id": "5ffcdcd1-c16d-43dc-8547-7fd515cb2021",
   "metadata": {},
   "outputs": [],
   "source": [
    "y_pred = svm_model.predict(x_test_text)"
   ]
  },
  {
   "cell_type": "code",
   "execution_count": null,
   "id": "ed676d24-1bb3-4344-bb32-384e2ee1ea15",
   "metadata": {},
   "outputs": [],
   "source": [
    "print ('accuracy score:', accuracy_score(y_test,y_pred))\n",
    "print('classification report',classification_report (y_test,y_pred))\n",
    "print('confusion_matrix',confusion_matrix(y_test,y_pred))"
   ]
  },
  {
   "cell_type": "code",
   "execution_count": null,
   "id": "053a693f-4239-497f-b26d-c389f0e44d6f",
   "metadata": {},
   "outputs": [],
   "source": []
  },
  {
   "cell_type": "code",
   "execution_count": null,
   "id": "23646d5e-5b70-4a65-b0c3-c3b6efa876d7",
   "metadata": {},
   "outputs": [],
   "source": []
  }
 ],
 "metadata": {
  "kernelspec": {
   "display_name": "Python 3 (ipykernel)",
   "language": "python",
   "name": "python3"
  },
  "language_info": {
   "codemirror_mode": {
    "name": "ipython",
    "version": 3
   },
   "file_extension": ".py",
   "mimetype": "text/x-python",
   "name": "python",
   "nbconvert_exporter": "python",
   "pygments_lexer": "ipython3",
   "version": "3.10.10"
  }
 },
 "nbformat": 4,
 "nbformat_minor": 5
}
