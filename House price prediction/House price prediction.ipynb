{
 "cells": [
  {
   "cell_type": "code",
   "execution_count": 516,
   "id": "c9bf4c1f-7047-4020-b441-37f8f37663a1",
   "metadata": {},
   "outputs": [],
   "source": [
    "import pandas as pd \n",
    "import numpy as np \n",
    "import matplotlib.pyplot as plt\n",
    "import seaborn as sns"
   ]
  },
  {
   "cell_type": "code",
   "execution_count": 517,
   "id": "95811d7f-9efe-454b-b5f0-961adebc082c",
   "metadata": {},
   "outputs": [],
   "source": [
    "df = pd.read_csv(r\"C:\\Users\\dell\\Documents\\Data analysis\\OASIS INFOBYTE\\house price prediction\\Housing.csv\")"
   ]
  },
  {
   "cell_type": "code",
   "execution_count": 518,
   "id": "eceb05f5-59dd-48bb-a767-90e686fafccc",
   "metadata": {},
   "outputs": [
    {
     "data": {
      "text/html": [
       "<div>\n",
       "<style scoped>\n",
       "    .dataframe tbody tr th:only-of-type {\n",
       "        vertical-align: middle;\n",
       "    }\n",
       "\n",
       "    .dataframe tbody tr th {\n",
       "        vertical-align: top;\n",
       "    }\n",
       "\n",
       "    .dataframe thead th {\n",
       "        text-align: right;\n",
       "    }\n",
       "</style>\n",
       "<table border=\"1\" class=\"dataframe\">\n",
       "  <thead>\n",
       "    <tr style=\"text-align: right;\">\n",
       "      <th></th>\n",
       "      <th>price</th>\n",
       "      <th>area</th>\n",
       "      <th>bedrooms</th>\n",
       "      <th>bathrooms</th>\n",
       "      <th>stories</th>\n",
       "      <th>mainroad</th>\n",
       "      <th>guestroom</th>\n",
       "      <th>basement</th>\n",
       "      <th>hotwaterheating</th>\n",
       "      <th>airconditioning</th>\n",
       "      <th>parking</th>\n",
       "      <th>prefarea</th>\n",
       "      <th>furnishingstatus</th>\n",
       "    </tr>\n",
       "  </thead>\n",
       "  <tbody>\n",
       "    <tr>\n",
       "      <th>0</th>\n",
       "      <td>13300000</td>\n",
       "      <td>7420</td>\n",
       "      <td>4</td>\n",
       "      <td>2</td>\n",
       "      <td>3</td>\n",
       "      <td>yes</td>\n",
       "      <td>no</td>\n",
       "      <td>no</td>\n",
       "      <td>no</td>\n",
       "      <td>yes</td>\n",
       "      <td>2</td>\n",
       "      <td>yes</td>\n",
       "      <td>furnished</td>\n",
       "    </tr>\n",
       "    <tr>\n",
       "      <th>1</th>\n",
       "      <td>12250000</td>\n",
       "      <td>8960</td>\n",
       "      <td>4</td>\n",
       "      <td>4</td>\n",
       "      <td>4</td>\n",
       "      <td>yes</td>\n",
       "      <td>no</td>\n",
       "      <td>no</td>\n",
       "      <td>no</td>\n",
       "      <td>yes</td>\n",
       "      <td>3</td>\n",
       "      <td>no</td>\n",
       "      <td>furnished</td>\n",
       "    </tr>\n",
       "    <tr>\n",
       "      <th>2</th>\n",
       "      <td>12250000</td>\n",
       "      <td>9960</td>\n",
       "      <td>3</td>\n",
       "      <td>2</td>\n",
       "      <td>2</td>\n",
       "      <td>yes</td>\n",
       "      <td>no</td>\n",
       "      <td>yes</td>\n",
       "      <td>no</td>\n",
       "      <td>no</td>\n",
       "      <td>2</td>\n",
       "      <td>yes</td>\n",
       "      <td>semi-furnished</td>\n",
       "    </tr>\n",
       "    <tr>\n",
       "      <th>3</th>\n",
       "      <td>12215000</td>\n",
       "      <td>7500</td>\n",
       "      <td>4</td>\n",
       "      <td>2</td>\n",
       "      <td>2</td>\n",
       "      <td>yes</td>\n",
       "      <td>no</td>\n",
       "      <td>yes</td>\n",
       "      <td>no</td>\n",
       "      <td>yes</td>\n",
       "      <td>3</td>\n",
       "      <td>yes</td>\n",
       "      <td>furnished</td>\n",
       "    </tr>\n",
       "    <tr>\n",
       "      <th>4</th>\n",
       "      <td>11410000</td>\n",
       "      <td>7420</td>\n",
       "      <td>4</td>\n",
       "      <td>1</td>\n",
       "      <td>2</td>\n",
       "      <td>yes</td>\n",
       "      <td>yes</td>\n",
       "      <td>yes</td>\n",
       "      <td>no</td>\n",
       "      <td>yes</td>\n",
       "      <td>2</td>\n",
       "      <td>no</td>\n",
       "      <td>furnished</td>\n",
       "    </tr>\n",
       "  </tbody>\n",
       "</table>\n",
       "</div>"
      ],
      "text/plain": [
       "      price  area  bedrooms  bathrooms  stories mainroad guestroom basement  \\\n",
       "0  13300000  7420         4          2        3      yes        no       no   \n",
       "1  12250000  8960         4          4        4      yes        no       no   \n",
       "2  12250000  9960         3          2        2      yes        no      yes   \n",
       "3  12215000  7500         4          2        2      yes        no      yes   \n",
       "4  11410000  7420         4          1        2      yes       yes      yes   \n",
       "\n",
       "  hotwaterheating airconditioning  parking prefarea furnishingstatus  \n",
       "0              no             yes        2      yes        furnished  \n",
       "1              no             yes        3       no        furnished  \n",
       "2              no              no        2      yes   semi-furnished  \n",
       "3              no             yes        3      yes        furnished  \n",
       "4              no             yes        2       no        furnished  "
      ]
     },
     "execution_count": 518,
     "metadata": {},
     "output_type": "execute_result"
    }
   ],
   "source": [
    "df.head()"
   ]
  },
  {
   "cell_type": "code",
   "execution_count": 519,
   "id": "18a6442c-f912-4325-806c-6620ab20a409",
   "metadata": {},
   "outputs": [
    {
     "data": {
      "text/plain": [
       "(545, 13)"
      ]
     },
     "execution_count": 519,
     "metadata": {},
     "output_type": "execute_result"
    }
   ],
   "source": [
    "df.shape"
   ]
  },
  {
   "cell_type": "code",
   "execution_count": 520,
   "id": "4b3ccb4f-c089-479c-8a2b-94ff13138237",
   "metadata": {},
   "outputs": [
    {
     "data": {
      "text/plain": [
       "price               0\n",
       "area                0\n",
       "bedrooms            0\n",
       "bathrooms           0\n",
       "stories             0\n",
       "mainroad            0\n",
       "guestroom           0\n",
       "basement            0\n",
       "hotwaterheating     0\n",
       "airconditioning     0\n",
       "parking             0\n",
       "prefarea            0\n",
       "furnishingstatus    0\n",
       "dtype: int64"
      ]
     },
     "execution_count": 520,
     "metadata": {},
     "output_type": "execute_result"
    }
   ],
   "source": [
    "df.isnull().sum()"
   ]
  },
  {
   "cell_type": "code",
   "execution_count": 521,
   "id": "c2885070-1d79-4a91-a77d-e69e63c5a031",
   "metadata": {},
   "outputs": [
    {
     "name": "stdout",
     "output_type": "stream",
     "text": [
      "<class 'pandas.core.frame.DataFrame'>\n",
      "RangeIndex: 545 entries, 0 to 544\n",
      "Data columns (total 13 columns):\n",
      " #   Column            Non-Null Count  Dtype \n",
      "---  ------            --------------  ----- \n",
      " 0   price             545 non-null    int64 \n",
      " 1   area              545 non-null    int64 \n",
      " 2   bedrooms          545 non-null    int64 \n",
      " 3   bathrooms         545 non-null    int64 \n",
      " 4   stories           545 non-null    int64 \n",
      " 5   mainroad          545 non-null    object\n",
      " 6   guestroom         545 non-null    object\n",
      " 7   basement          545 non-null    object\n",
      " 8   hotwaterheating   545 non-null    object\n",
      " 9   airconditioning   545 non-null    object\n",
      " 10  parking           545 non-null    int64 \n",
      " 11  prefarea          545 non-null    object\n",
      " 12  furnishingstatus  545 non-null    object\n",
      "dtypes: int64(6), object(7)\n",
      "memory usage: 55.5+ KB\n"
     ]
    }
   ],
   "source": [
    "df.info()"
   ]
  },
  {
   "cell_type": "code",
   "execution_count": 522,
   "id": "89e3ab3a-a6f5-443b-b0b9-bc790212ef2a",
   "metadata": {},
   "outputs": [],
   "source": [
    "df['main_road_coded']= df['mainroad'].map({'yes':1, 'no':0})"
   ]
  },
  {
   "cell_type": "code",
   "execution_count": 523,
   "id": "a5116909-1cee-4b0f-a111-75740370d52d",
   "metadata": {},
   "outputs": [],
   "source": [
    "df['guestroom_coded']= df['guestroom'].map({'yes':1, 'no':0})"
   ]
  },
  {
   "cell_type": "code",
   "execution_count": 524,
   "id": "21151358-5634-498c-8030-2e04e6c8bf17",
   "metadata": {},
   "outputs": [],
   "source": [
    "df['basement_coded']= df['basement'].map({'yes':1, 'no':0})"
   ]
  },
  {
   "cell_type": "code",
   "execution_count": 525,
   "id": "bb8fde54-ff2c-43d7-8e10-85a58aac8c49",
   "metadata": {},
   "outputs": [],
   "source": [
    "df['hotwaterheating_coded']= df['hotwaterheating'].map({'yes':1, 'no':0})"
   ]
  },
  {
   "cell_type": "code",
   "execution_count": 526,
   "id": "63cb7b9e-653c-4d7d-bad1-15f76499e2df",
   "metadata": {},
   "outputs": [],
   "source": [
    "df['airconditioning_coded']= df['airconditioning'].map({'yes':1, 'no':0})"
   ]
  },
  {
   "cell_type": "code",
   "execution_count": 527,
   "id": "5a5bf571-79e2-4adb-95a3-5d89e78ae9cc",
   "metadata": {},
   "outputs": [],
   "source": [
    "df['prefarea_coded']= df['prefarea'].map({'yes':1, 'no':0})"
   ]
  },
  {
   "cell_type": "code",
   "execution_count": 528,
   "id": "a5ccad4f-95be-47f4-9347-4fb6a37d264a",
   "metadata": {},
   "outputs": [],
   "source": [
    "#we will use one code encoding here as we only have 3 unique categories for furnishing\n",
    "\n",
    "df_encoded = pd.get_dummies(df, columns = ['furnishingstatus'], drop_first = False)\n",
    "df_encoded['furnishingstatus_furnished']=df_encoded['furnishingstatus_furnished'].astype(int)\n",
    "df_encoded['furnishingstatus_semi-furnished']= df_encoded['furnishingstatus_semi-furnished'].astype(int)\n",
    "df_encoded['furnishingstatus_unfurnished']= df_encoded['furnishingstatus_unfurnished'].astype(int)\n"
   ]
  },
  {
   "cell_type": "code",
   "execution_count": 529,
   "id": "0ce3b29a-028a-443e-8921-4ce5d1d25ea4",
   "metadata": {},
   "outputs": [],
   "source": [
    "new_df = df_encoded.drop(['mainroad','guestroom','basement','hotwaterheating','airconditioning','prefarea'], axis =1)"
   ]
  },
  {
   "cell_type": "code",
   "execution_count": 530,
   "id": "7da2cf6e-c296-4784-a0ba-b0894442c04c",
   "metadata": {},
   "outputs": [
    {
     "data": {
      "text/html": [
       "<div>\n",
       "<style scoped>\n",
       "    .dataframe tbody tr th:only-of-type {\n",
       "        vertical-align: middle;\n",
       "    }\n",
       "\n",
       "    .dataframe tbody tr th {\n",
       "        vertical-align: top;\n",
       "    }\n",
       "\n",
       "    .dataframe thead th {\n",
       "        text-align: right;\n",
       "    }\n",
       "</style>\n",
       "<table border=\"1\" class=\"dataframe\">\n",
       "  <thead>\n",
       "    <tr style=\"text-align: right;\">\n",
       "      <th></th>\n",
       "      <th>price</th>\n",
       "      <th>area</th>\n",
       "      <th>bedrooms</th>\n",
       "      <th>bathrooms</th>\n",
       "      <th>stories</th>\n",
       "      <th>parking</th>\n",
       "      <th>main_road_coded</th>\n",
       "      <th>guestroom_coded</th>\n",
       "      <th>basement_coded</th>\n",
       "      <th>hotwaterheating_coded</th>\n",
       "      <th>airconditioning_coded</th>\n",
       "      <th>prefarea_coded</th>\n",
       "      <th>furnishingstatus_furnished</th>\n",
       "      <th>furnishingstatus_semi-furnished</th>\n",
       "      <th>furnishingstatus_unfurnished</th>\n",
       "    </tr>\n",
       "  </thead>\n",
       "  <tbody>\n",
       "    <tr>\n",
       "      <th>0</th>\n",
       "      <td>13300000</td>\n",
       "      <td>7420</td>\n",
       "      <td>4</td>\n",
       "      <td>2</td>\n",
       "      <td>3</td>\n",
       "      <td>2</td>\n",
       "      <td>1</td>\n",
       "      <td>0</td>\n",
       "      <td>0</td>\n",
       "      <td>0</td>\n",
       "      <td>1</td>\n",
       "      <td>1</td>\n",
       "      <td>1</td>\n",
       "      <td>0</td>\n",
       "      <td>0</td>\n",
       "    </tr>\n",
       "    <tr>\n",
       "      <th>1</th>\n",
       "      <td>12250000</td>\n",
       "      <td>8960</td>\n",
       "      <td>4</td>\n",
       "      <td>4</td>\n",
       "      <td>4</td>\n",
       "      <td>3</td>\n",
       "      <td>1</td>\n",
       "      <td>0</td>\n",
       "      <td>0</td>\n",
       "      <td>0</td>\n",
       "      <td>1</td>\n",
       "      <td>0</td>\n",
       "      <td>1</td>\n",
       "      <td>0</td>\n",
       "      <td>0</td>\n",
       "    </tr>\n",
       "    <tr>\n",
       "      <th>2</th>\n",
       "      <td>12250000</td>\n",
       "      <td>9960</td>\n",
       "      <td>3</td>\n",
       "      <td>2</td>\n",
       "      <td>2</td>\n",
       "      <td>2</td>\n",
       "      <td>1</td>\n",
       "      <td>0</td>\n",
       "      <td>1</td>\n",
       "      <td>0</td>\n",
       "      <td>0</td>\n",
       "      <td>1</td>\n",
       "      <td>0</td>\n",
       "      <td>1</td>\n",
       "      <td>0</td>\n",
       "    </tr>\n",
       "    <tr>\n",
       "      <th>3</th>\n",
       "      <td>12215000</td>\n",
       "      <td>7500</td>\n",
       "      <td>4</td>\n",
       "      <td>2</td>\n",
       "      <td>2</td>\n",
       "      <td>3</td>\n",
       "      <td>1</td>\n",
       "      <td>0</td>\n",
       "      <td>1</td>\n",
       "      <td>0</td>\n",
       "      <td>1</td>\n",
       "      <td>1</td>\n",
       "      <td>1</td>\n",
       "      <td>0</td>\n",
       "      <td>0</td>\n",
       "    </tr>\n",
       "    <tr>\n",
       "      <th>4</th>\n",
       "      <td>11410000</td>\n",
       "      <td>7420</td>\n",
       "      <td>4</td>\n",
       "      <td>1</td>\n",
       "      <td>2</td>\n",
       "      <td>2</td>\n",
       "      <td>1</td>\n",
       "      <td>1</td>\n",
       "      <td>1</td>\n",
       "      <td>0</td>\n",
       "      <td>1</td>\n",
       "      <td>0</td>\n",
       "      <td>1</td>\n",
       "      <td>0</td>\n",
       "      <td>0</td>\n",
       "    </tr>\n",
       "    <tr>\n",
       "      <th>...</th>\n",
       "      <td>...</td>\n",
       "      <td>...</td>\n",
       "      <td>...</td>\n",
       "      <td>...</td>\n",
       "      <td>...</td>\n",
       "      <td>...</td>\n",
       "      <td>...</td>\n",
       "      <td>...</td>\n",
       "      <td>...</td>\n",
       "      <td>...</td>\n",
       "      <td>...</td>\n",
       "      <td>...</td>\n",
       "      <td>...</td>\n",
       "      <td>...</td>\n",
       "      <td>...</td>\n",
       "    </tr>\n",
       "    <tr>\n",
       "      <th>540</th>\n",
       "      <td>1820000</td>\n",
       "      <td>3000</td>\n",
       "      <td>2</td>\n",
       "      <td>1</td>\n",
       "      <td>1</td>\n",
       "      <td>2</td>\n",
       "      <td>1</td>\n",
       "      <td>0</td>\n",
       "      <td>1</td>\n",
       "      <td>0</td>\n",
       "      <td>0</td>\n",
       "      <td>0</td>\n",
       "      <td>0</td>\n",
       "      <td>0</td>\n",
       "      <td>1</td>\n",
       "    </tr>\n",
       "    <tr>\n",
       "      <th>541</th>\n",
       "      <td>1767150</td>\n",
       "      <td>2400</td>\n",
       "      <td>3</td>\n",
       "      <td>1</td>\n",
       "      <td>1</td>\n",
       "      <td>0</td>\n",
       "      <td>0</td>\n",
       "      <td>0</td>\n",
       "      <td>0</td>\n",
       "      <td>0</td>\n",
       "      <td>0</td>\n",
       "      <td>0</td>\n",
       "      <td>0</td>\n",
       "      <td>1</td>\n",
       "      <td>0</td>\n",
       "    </tr>\n",
       "    <tr>\n",
       "      <th>542</th>\n",
       "      <td>1750000</td>\n",
       "      <td>3620</td>\n",
       "      <td>2</td>\n",
       "      <td>1</td>\n",
       "      <td>1</td>\n",
       "      <td>0</td>\n",
       "      <td>1</td>\n",
       "      <td>0</td>\n",
       "      <td>0</td>\n",
       "      <td>0</td>\n",
       "      <td>0</td>\n",
       "      <td>0</td>\n",
       "      <td>0</td>\n",
       "      <td>0</td>\n",
       "      <td>1</td>\n",
       "    </tr>\n",
       "    <tr>\n",
       "      <th>543</th>\n",
       "      <td>1750000</td>\n",
       "      <td>2910</td>\n",
       "      <td>3</td>\n",
       "      <td>1</td>\n",
       "      <td>1</td>\n",
       "      <td>0</td>\n",
       "      <td>0</td>\n",
       "      <td>0</td>\n",
       "      <td>0</td>\n",
       "      <td>0</td>\n",
       "      <td>0</td>\n",
       "      <td>0</td>\n",
       "      <td>1</td>\n",
       "      <td>0</td>\n",
       "      <td>0</td>\n",
       "    </tr>\n",
       "    <tr>\n",
       "      <th>544</th>\n",
       "      <td>1750000</td>\n",
       "      <td>3850</td>\n",
       "      <td>3</td>\n",
       "      <td>1</td>\n",
       "      <td>2</td>\n",
       "      <td>0</td>\n",
       "      <td>1</td>\n",
       "      <td>0</td>\n",
       "      <td>0</td>\n",
       "      <td>0</td>\n",
       "      <td>0</td>\n",
       "      <td>0</td>\n",
       "      <td>0</td>\n",
       "      <td>0</td>\n",
       "      <td>1</td>\n",
       "    </tr>\n",
       "  </tbody>\n",
       "</table>\n",
       "<p>545 rows × 15 columns</p>\n",
       "</div>"
      ],
      "text/plain": [
       "        price  area  bedrooms  bathrooms  stories  parking  main_road_coded  \\\n",
       "0    13300000  7420         4          2        3        2                1   \n",
       "1    12250000  8960         4          4        4        3                1   \n",
       "2    12250000  9960         3          2        2        2                1   \n",
       "3    12215000  7500         4          2        2        3                1   \n",
       "4    11410000  7420         4          1        2        2                1   \n",
       "..        ...   ...       ...        ...      ...      ...              ...   \n",
       "540   1820000  3000         2          1        1        2                1   \n",
       "541   1767150  2400         3          1        1        0                0   \n",
       "542   1750000  3620         2          1        1        0                1   \n",
       "543   1750000  2910         3          1        1        0                0   \n",
       "544   1750000  3850         3          1        2        0                1   \n",
       "\n",
       "     guestroom_coded  basement_coded  hotwaterheating_coded  \\\n",
       "0                  0               0                      0   \n",
       "1                  0               0                      0   \n",
       "2                  0               1                      0   \n",
       "3                  0               1                      0   \n",
       "4                  1               1                      0   \n",
       "..               ...             ...                    ...   \n",
       "540                0               1                      0   \n",
       "541                0               0                      0   \n",
       "542                0               0                      0   \n",
       "543                0               0                      0   \n",
       "544                0               0                      0   \n",
       "\n",
       "     airconditioning_coded  prefarea_coded  furnishingstatus_furnished  \\\n",
       "0                        1               1                           1   \n",
       "1                        1               0                           1   \n",
       "2                        0               1                           0   \n",
       "3                        1               1                           1   \n",
       "4                        1               0                           1   \n",
       "..                     ...             ...                         ...   \n",
       "540                      0               0                           0   \n",
       "541                      0               0                           0   \n",
       "542                      0               0                           0   \n",
       "543                      0               0                           1   \n",
       "544                      0               0                           0   \n",
       "\n",
       "     furnishingstatus_semi-furnished  furnishingstatus_unfurnished  \n",
       "0                                  0                             0  \n",
       "1                                  0                             0  \n",
       "2                                  1                             0  \n",
       "3                                  0                             0  \n",
       "4                                  0                             0  \n",
       "..                               ...                           ...  \n",
       "540                                0                             1  \n",
       "541                                1                             0  \n",
       "542                                0                             1  \n",
       "543                                0                             0  \n",
       "544                                0                             1  \n",
       "\n",
       "[545 rows x 15 columns]"
      ]
     },
     "execution_count": 530,
     "metadata": {},
     "output_type": "execute_result"
    }
   ],
   "source": [
    "new_df"
   ]
  },
  {
   "cell_type": "code",
   "execution_count": 531,
   "id": "d59db7e1-e336-482f-b656-5673c3b22fd1",
   "metadata": {},
   "outputs": [
    {
     "data": {
      "image/png": "[encoded data removed]",
      "text/plain": [
       "<Figure size 1000x500 with 2 Axes>"
      ]
     },
     "metadata": {},
     "output_type": "display_data"
    }
   ],
   "source": [
    "#boxplot for prics , area\n",
    "plt.figure(figsize = (10,5))\n",
    "plt.subplot(1,2,1)\n",
    "sns.boxplot(data= new_df['price'])\n",
    "plt.title('Distribution of price')\n",
    "\n",
    "plt.subplot(1,2,2)\n",
    "sns.boxplot(data= new_df['area'])\n",
    "plt.title('Distribution of area')\n",
    "plt.show()"
   ]
  },
  {
   "cell_type": "code",
   "execution_count": 532,
   "id": "7dca8523-17a4-4255-bf3b-b414ecc3e91b",
   "metadata": {},
   "outputs": [
    {
     "name": "stdout",
     "output_type": "stream",
     "text": [
      "lower bound : -540.0\n",
      "upper bound: 2220.0\n"
     ]
    }
   ],
   "source": [
    "q1= new_df['area'].quantile(0.25)\n",
    "q3= new_df['area'].quantile(0.75)\n",
    "iqr = q3-q1\n",
    "lb = q1-1.5*iqr\n",
    "ub = q3-1.5*iqr\n",
    "print('lower bound :', lb)\n",
    "print('upper bound:', ub)"
   ]
  },
  {
   "cell_type": "code",
   "execution_count": 533,
   "id": "f4e0efcc-e4c0-4fb1-ba12-9c6c52ff57ae",
   "metadata": {},
   "outputs": [
    {
     "name": "stdout",
     "output_type": "stream",
     "text": [
      "lower bound : -35000.0\n",
      "upper bound: 2275000.0\n"
     ]
    }
   ],
   "source": [
    "q1= new_df['price'].quantile(0.25)\n",
    "q3= new_df['price'].quantile(0.75)\n",
    "iqr = q3-q1\n",
    "lbp = q1-1.5*iqr\n",
    "ubp = q3-1.5*iqr\n",
    "print('lower bound :', lbp)\n",
    "print('upper bound:', ubp)"
   ]
  },
  {
   "cell_type": "code",
   "execution_count": 534,
   "id": "c0e00937-0d8f-4818-b230-cef78735c0ec",
   "metadata": {},
   "outputs": [],
   "source": [
    "after_removing_outliers = new_df[new_df['area']<ub]"
   ]
  },
  {
   "cell_type": "code",
   "execution_count": 535,
   "id": "308e5fed-2a47-418e-8ed9-f061d692cf3c",
   "metadata": {},
   "outputs": [
    {
     "data": {
      "text/plain": [
       "(18, 15)"
      ]
     },
     "execution_count": 535,
     "metadata": {},
     "output_type": "execute_result"
    }
   ],
   "source": [
    "after_removing_outliers.shape"
   ]
  },
  {
   "cell_type": "code",
   "execution_count": 536,
   "id": "9f5186d5-e0b7-46a7-b7e9-a5b5e66783af",
   "metadata": {},
   "outputs": [
    {
     "data": {
      "text/plain": [
       "(527, 15)"
      ]
     },
     "execution_count": 536,
     "metadata": {},
     "output_type": "execute_result"
    }
   ],
   "source": [
    "outlier_df = new_df[new_df['area']>ub]\n",
    "outlier_df.shape"
   ]
  },
  {
   "cell_type": "code",
   "execution_count": 537,
   "id": "6af544da-b738-4308-be4c-da62b87a5c65",
   "metadata": {},
   "outputs": [
    {
     "data": {
      "image/png": "[encoded data removed]",
      "text/plain": [
       "<Figure size 1000x500 with 2 Axes>"
      ]
     },
     "metadata": {},
     "output_type": "display_data"
    }
   ],
   "source": [
    "plt.figure(figsize= (10,5))\n",
    "plt.subplot(1,2,1)\n",
    "sns.boxplot(after_removing_outliers['area'])\n",
    "plt.title('distribution of area')\n",
    "\n",
    "plt.subplot(1,2,2)\n",
    "sns.boxplot(after_removing_outliers['price'])\n",
    "plt.title('distribution of price')\n",
    "plt.show()"
   ]
  },
  {
   "cell_type": "code",
   "execution_count": 538,
   "id": "d5f2a277-f6e7-4ad9-8cdc-032774d3c64d",
   "metadata": {},
   "outputs": [
    {
     "name": "stderr",
     "output_type": "stream",
     "text": [
      "C:\\Users\\dell\\AppData\\Local\\Temp\\ipykernel_9220\\1144583157.py:1: SettingWithCopyWarning: \n",
      "A value is trying to be set on a copy of a slice from a DataFrame.\n",
      "Try using .loc[row_indexer,col_indexer] = value instead\n",
      "\n",
      "See the caveats in the documentation: https://pandas.pydata.org/pandas-docs/stable/user_guide/indexing.html#returning-a-view-versus-a-copy\n",
      "  outlier_df['price_per_sqfeet'] = outlier_df['price']/ outlier_df['area']\n"
     ]
    }
   ],
   "source": [
    "outlier_df['price_per_sqfeet'] = outlier_df['price']/ outlier_df['area']"
   ]
  },
  {
   "cell_type": "code",
   "execution_count": 539,
   "id": "45265d32-b493-46f8-9288-325c8057b98a",
   "metadata": {},
   "outputs": [],
   "source": [
    "from sklearn.preprocessing import StandardScaler"
   ]
  },
  {
   "cell_type": "code",
   "execution_count": 540,
   "id": "813c3a45-af3a-4d84-a5bc-8a05f18d4cc9",
   "metadata": {},
   "outputs": [],
   "source": [
    "scaler = StandardScaler()"
   ]
  },
  {
   "cell_type": "code",
   "execution_count": 541,
   "id": "e584558d-a09e-420c-9322-48aa40b5f890",
   "metadata": {},
   "outputs": [],
   "source": [
    "scaled_df = scaler.fit_transform(outlier_df[['area','bedrooms','bathrooms','stories','parking','price_per_sqfeet']])"
   ]
  },
  {
   "cell_type": "code",
   "execution_count": 542,
   "id": "22514185-3fa0-40f5-906d-93f1fa106561",
   "metadata": {},
   "outputs": [],
   "source": [
    "scaled_df= pd.DataFrame(scaled_df)\n",
    "scaled_df = scaled_df.reset_index(drop=True)"
   ]
  },
  {
   "cell_type": "code",
   "execution_count": 543,
   "id": "40d0c4f0-b20f-4548-b032-146cdb47ac02",
   "metadata": {},
   "outputs": [],
   "source": [
    "categorical_col = outlier_df[['main_road_coded','guestroom_coded','basement_coded','hotwaterheating_coded','airconditioning_coded','prefarea_coded','furnishingstatus_furnished','furnishingstatus_semi-furnished','furnishingstatus_unfurnished']]"
   ]
  },
  {
   "cell_type": "code",
   "execution_count": 544,
   "id": "fe8b364d-4daf-427a-89d1-8682a2756505",
   "metadata": {},
   "outputs": [],
   "source": [
    "categorical_col= categorical_col.reset_index(drop = True)"
   ]
  },
  {
   "cell_type": "code",
   "execution_count": 545,
   "id": "630db7a4-815d-4eb1-a773-dd77065ff7a4",
   "metadata": {},
   "outputs": [],
   "source": [
    "Final_feature = pd.concat([scaled_df,categorical_col],axis=1 )"
   ]
  },
  {
   "cell_type": "code",
   "execution_count": 546,
   "id": "25a644d7-165c-43f8-94e3-cd9d9dfb408c",
   "metadata": {},
   "outputs": [],
   "source": [
    "Final_feature = Final_feature.rename(columns = {'main_road_coded':5,'guestroom_coded':6,'basement_coded':7,'hotwaterheating_coded':8,'airconditioning_coded':9,'prefarea_coded':10,'furnishingstatus_furnished':11,'furnishingstatus_semi-furnished':12,'furnishingstatus_unfurnished':13})"
   ]
  },
  {
   "cell_type": "code",
   "execution_count": 547,
   "id": "9798241f-9607-4f9d-9d64-871340c57171",
   "metadata": {},
   "outputs": [],
   "source": [
    "x = Final_feature \n",
    "y = outlier_df['price']"
   ]
  },
  {
   "cell_type": "code",
   "execution_count": 548,
   "id": "2d256b32-f2a9-4a91-b740-386cc9558f9f",
   "metadata": {},
   "outputs": [],
   "source": [
    "from sklearn.model_selection import train_test_split"
   ]
  },
  {
   "cell_type": "code",
   "execution_count": 549,
   "id": "86fb6add-3970-46ea-addf-995571c06286",
   "metadata": {},
   "outputs": [],
   "source": [
    "from sklearn.linear_model import LinearRegression\n",
    "from sklearn.metrics import mean_squared_error, r2_score"
   ]
  },
  {
   "cell_type": "code",
   "execution_count": 550,
   "id": "10e00908-96a4-4721-b40e-0d29cbed659f",
   "metadata": {},
   "outputs": [],
   "source": [
    "x_train_df, x_test , y_train_df, y_test= train_test_split(x,y , test_size = 0.2 , random_state = 42)"
   ]
  },
  {
   "cell_type": "code",
   "execution_count": 551,
   "id": "64843153-9893-44aa-a029-1e54e3a3ad5e",
   "metadata": {},
   "outputs": [
    {
     "data": {
      "text/plain": [
       "(421, 15)"
      ]
     },
     "execution_count": 551,
     "metadata": {},
     "output_type": "execute_result"
    }
   ],
   "source": [
    "x_train_df.shape"
   ]
  },
  {
   "cell_type": "code",
   "execution_count": 552,
   "id": "89bba4da-797a-4206-84ab-a8025d072fea",
   "metadata": {},
   "outputs": [
    {
     "data": {
      "text/plain": [
       "(421,)"
      ]
     },
     "execution_count": 552,
     "metadata": {},
     "output_type": "execute_result"
    }
   ],
   "source": [
    "y_train_df.shape"
   ]
  },
  {
   "cell_type": "code",
   "execution_count": 553,
   "id": "19141f03-6142-4d03-b5ee-f403686bf30f",
   "metadata": {},
   "outputs": [],
   "source": [
    "model = LinearRegression()\n",
    "model.fit(x_train_df, y_train_df)\n",
    "y_pred= model.predict(x_test)"
   ]
  },
  {
   "cell_type": "code",
   "execution_count": 554,
   "id": "2418788f-0f4e-42af-82f9-b1e248ba881f",
   "metadata": {},
   "outputs": [],
   "source": [
    "mse = mean_squared_error(y_pred, y_test)\n",
    "r2= r2_score (y_pred, y_test)"
   ]
  },
  {
   "cell_type": "code",
   "execution_count": 555,
   "id": "03bf8e1a-f97a-4ea1-a481-72c9b3de911e",
   "metadata": {},
   "outputs": [
    {
     "name": "stdout",
     "output_type": "stream",
     "text": [
      "mean squared error 490317726547.16785\n",
      "R2 score 0.8758275306964586\n"
     ]
    }
   ],
   "source": [
    "print ('mean squared error', mse)\n",
    "print ('R2 score', r2)\n"
   ]
  },
  {
   "cell_type": "code",
   "execution_count": 556,
   "id": "4f472d4b-0d80-4e7b-a8bf-53ec1db4fe22",
   "metadata": {},
   "outputs": [
    {
     "name": "stdout",
     "output_type": "stream",
     "text": [
      "<class 'pandas.core.frame.DataFrame'>\n",
      "RangeIndex: 527 entries, 0 to 526\n",
      "Data columns (total 15 columns):\n",
      " #   Column  Non-Null Count  Dtype  \n",
      "---  ------  --------------  -----  \n",
      " 0   0       527 non-null    float64\n",
      " 1   1       527 non-null    float64\n",
      " 2   2       527 non-null    float64\n",
      " 3   3       527 non-null    float64\n",
      " 4   4       527 non-null    float64\n",
      " 5   5       527 non-null    float64\n",
      " 6   5       527 non-null    int64  \n",
      " 7   6       527 non-null    int64  \n",
      " 8   7       527 non-null    int64  \n",
      " 9   8       527 non-null    int64  \n",
      " 10  9       527 non-null    int64  \n",
      " 11  10      527 non-null    int64  \n",
      " 12  11      527 non-null    int64  \n",
      " 13  12      527 non-null    int64  \n",
      " 14  13      527 non-null    int64  \n",
      "dtypes: float64(6), int64(9)\n",
      "memory usage: 61.9 KB\n"
     ]
    }
   ],
   "source": [
    "Final_feature.info()"
   ]
  },
  {
   "cell_type": "code",
   "execution_count": 557,
   "id": "0f0d45a5-ebac-4d7a-82a7-7e47ef168e54",
   "metadata": {},
   "outputs": [
    {
     "name": "stdout",
     "output_type": "stream",
     "text": [
      "<class 'pandas.core.frame.DataFrame'>\n",
      "RangeIndex: 545 entries, 0 to 544\n",
      "Data columns (total 15 columns):\n",
      " #   Column                           Non-Null Count  Dtype\n",
      "---  ------                           --------------  -----\n",
      " 0   price                            545 non-null    int64\n",
      " 1   area                             545 non-null    int64\n",
      " 2   bedrooms                         545 non-null    int64\n",
      " 3   bathrooms                        545 non-null    int64\n",
      " 4   stories                          545 non-null    int64\n",
      " 5   parking                          545 non-null    int64\n",
      " 6   main_road_coded                  545 non-null    int64\n",
      " 7   guestroom_coded                  545 non-null    int64\n",
      " 8   basement_coded                   545 non-null    int64\n",
      " 9   hotwaterheating_coded            545 non-null    int64\n",
      " 10  airconditioning_coded            545 non-null    int64\n",
      " 11  prefarea_coded                   545 non-null    int64\n",
      " 12  furnishingstatus_furnished       545 non-null    int64\n",
      " 13  furnishingstatus_semi-furnished  545 non-null    int64\n",
      " 14  furnishingstatus_unfurnished     545 non-null    int64\n",
      "dtypes: int64(15)\n",
      "memory usage: 64.0 KB\n"
     ]
    }
   ],
   "source": [
    "new_df.info()"
   ]
  },
  {
   "cell_type": "code",
   "execution_count": 558,
   "id": "9d1acb8d-d90a-43e3-b77a-b2cacff80c00",
   "metadata": {},
   "outputs": [
    {
     "name": "stderr",
     "output_type": "stream",
     "text": [
      "C:\\Users\\dell\\AppData\\Local\\Temp\\ipykernel_9220\\1342222347.py:1: SettingWithCopyWarning: \n",
      "A value is trying to be set on a copy of a slice from a DataFrame.\n",
      "Try using .loc[row_indexer,col_indexer] = value instead\n",
      "\n",
      "See the caveats in the documentation: https://pandas.pydata.org/pandas-docs/stable/user_guide/indexing.html#returning-a-view-versus-a-copy\n",
      "  outlier_df['logprice'] = np.log1p(outlier_df['price'])\n"
     ]
    }
   ],
   "source": [
    "outlier_df['logprice'] = np.log1p(outlier_df['price'])"
   ]
  },
  {
   "cell_type": "code",
   "execution_count": 559,
   "id": "1fc19b0b-2367-48d1-b2a5-29bd3398b588",
   "metadata": {},
   "outputs": [],
   "source": [
    "x2 = Final_feature \n",
    "y2 = outlier_df['logprice']"
   ]
  },
  {
   "cell_type": "code",
   "execution_count": 560,
   "id": "3254d6c3-d0e0-4130-b67e-1e491a9eaa2e",
   "metadata": {},
   "outputs": [],
   "source": [
    "x_train_df2, x_test2 , y_train_df2, y_test2= train_test_split(x2,y2 , test_size = 0.2 , random_state = 42)"
   ]
  },
  {
   "cell_type": "code",
   "execution_count": 561,
   "id": "ea712e7e-9b21-493b-b9dc-6c3e30abcd74",
   "metadata": {},
   "outputs": [],
   "source": [
    "model = LinearRegression()\n",
    "model.fit(x_train_df2, y_train_df2)\n",
    "y_pred2= model.predict(x_test2)"
   ]
  },
  {
   "cell_type": "code",
   "execution_count": 562,
   "id": "c685737a-5f56-42f8-95ae-ce5d61e2aa43",
   "metadata": {},
   "outputs": [],
   "source": [
    "mseL= mean_squared_error(y_pred2, y_test2)\n",
    "r2L= r2_score (y_pred2, y_test2)"
   ]
  },
  {
   "cell_type": "code",
   "execution_count": 563,
   "id": "d9a221bf-54fb-4120-97b0-688e85602cf7",
   "metadata": {},
   "outputs": [
    {
     "name": "stdout",
     "output_type": "stream",
     "text": [
      "mean squared error 0.014134986916349524\n",
      "R2 score 0.9109283007135403\n"
     ]
    }
   ],
   "source": [
    "print ('mean squared error', mseL)\n",
    "print ('R2 score', r2L)\n"
   ]
  },
  {
   "cell_type": "code",
   "execution_count": null,
   "id": "88e5895e-1ebd-4a4f-bd27-c15542857467",
   "metadata": {},
   "outputs": [],
   "source": []
  },
  {
   "cell_type": "code",
   "execution_count": null,
   "id": "27dc3425-5147-4628-8223-e926bc246187",
   "metadata": {},
   "outputs": [],
   "source": []
  }
 ],
 "metadata": {
  "kernelspec": {
   "display_name": "Python 3 (ipykernel)",
   "language": "python",
   "name": "python3"
  },
  "language_info": {
   "codemirror_mode": {
    "name": "ipython",
    "version": 3
   },
   "file_extension": ".py",
   "mimetype": "text/x-python",
   "name": "python",
   "nbconvert_exporter": "python",
   "pygments_lexer": "ipython3",
   "version": "3.10.10"
  }
 },
 "nbformat": 4,
 "nbformat_minor": 5
}
